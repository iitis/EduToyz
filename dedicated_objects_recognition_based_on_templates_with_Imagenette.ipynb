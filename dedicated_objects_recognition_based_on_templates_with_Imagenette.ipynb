{
 "cells": [
  {
   "cell_type": "markdown",
   "metadata": {},
   "source": [
    "## Robust category recognition based on deep templates for educational mobile applications"
   ]
  },
  {
   "cell_type": "code",
   "execution_count": 1,
   "metadata": {},
   "outputs": [],
   "source": [
    "import tensorflow as tf\n",
    "import numpy as np\n",
    "\n",
    "from tensorflow.keras.utils import to_categorical\n",
    "\n",
    "# libraries required for the transfer learning with pre-trained models \n",
    "from tensorflow.keras.applications import MobileNetV2\n",
    "from tensorflow.keras.applications import EfficientNetV2B0\n",
    "from tensorflow.keras.applications import ResNet50\n",
    "\n",
    "\n",
    "# libraries required for the transfer learning with pre-trained models \n",
    "from tensorflow.keras.applications.mobilenet_v2 import preprocess_input as Pre_input_MN\n",
    "from tensorflow.keras.applications.efficientnet_v2 import preprocess_input as Pre_input_EF\n",
    "from tensorflow.keras.applications.resnet import preprocess_input as Pre_input_RS\n",
    "\n",
    "# data visualization and testing:\n",
    "import matplotlib.pyplot as plt\n",
    "from sklearn.metrics import accuracy_score, confusion_matrix\n",
    "import seaborn as sns\n",
    "\n",
    "\n",
    "# similarity/distance measures:\n",
    "from sklearn.metrics.pairwise import cosine_similarity, manhattan_distances, euclidean_distances\n",
    "from sklearn.metrics import DistanceMetric"
   ]
  },
  {
   "cell_type": "code",
   "execution_count": 2,
   "metadata": {},
   "outputs": [],
   "source": [
    "# we define a dictionary that can be used to map a folder name with specific class data.\n",
    "# to the desired labels, we used a dumb definition: \n",
    "class_dictionary = {0:\"gas_station\", 1:\t\"golf_ball\", 2: \"radio\", 3:\t\"chainsaw\",\t4: \"instrument\"}\n",
    "def decode_predictions(array, class_dictionary):\n",
    "    return np.array(list(map(class_dictionary.get, array)))"
   ]
  },
  {
   "cell_type": "code",
   "execution_count": 3,
   "metadata": {},
   "outputs": [
    {
     "data": {
      "text/plain": [
       "dict_values(['gas_station', 'golf_ball', 'radio', 'chainsaw', 'instrument'])"
      ]
     },
     "execution_count": 3,
     "metadata": {},
     "output_type": "execute_result"
    }
   ],
   "source": [
    "class_dictionary.values()"
   ]
  },
  {
   "cell_type": "markdown",
   "metadata": {},
   "source": [
    "# Templates creation"
   ]
  },
  {
   "cell_type": "code",
   "execution_count": 4,
   "metadata": {},
   "outputs": [],
   "source": [
    "# the selection of the number of samples to create templates \n",
    "# is done manually according to the following scheme: \n",
    "# for 1 sample: Imagenette_v1/train, \n",
    "# for 2 samples: Imagenette_v2/train, \n",
    "# for 3 samples: Imagenette_v3/train,\n",
    "# for 4 samples: Imagenette_v4/train, \n",
    "# for 5 samples: Imagenette_v5/train, \n",
    "# for 10 samples: Imagenette_v10/train,\n",
    "# for 20 samples: Imagenette_v20/train.\n",
    "\n",
    "path_train = \"Imagenette_v20/train\"\n"
   ]
  },
  {
   "cell_type": "code",
   "execution_count": 5,
   "metadata": {},
   "outputs": [],
   "source": [
    "\n",
    "\n",
    "# the selection of the test set\n",
    "# is done manually according to the following scheme: \n",
    "# for 1 sample: Imagenette_v1/test, \n",
    "# for 2 samples: Imagenette_v2/test, \n",
    "# for 3 samples: Imagenette_v3/test,\n",
    "# for 4 samples: Imagenette_v4/test, \n",
    "# for 5 samples: Imagenette_v5/test, \n",
    "# for 10 samples: Imagenette_v10/test,\n",
    "# for 20 samples: Imagenette_v20/test.\n",
    "\n",
    "\n",
    "path_test = \"Imagenette_v20/test\"\n",
    "\n",
    "\n",
    "# ensure that the number of saplems in both selected paths to foilders always matches.\n"
   ]
  },
  {
   "cell_type": "code",
   "execution_count": 6,
   "metadata": {},
   "outputs": [
    {
     "ename": "NotFoundError",
     "evalue": "Could not find directory Imagenette_v20/train",
     "output_type": "error",
     "traceback": [
      "\u001b[1;31m---------------------------------------------------------------------------\u001b[0m",
      "\u001b[1;31mNotFoundError\u001b[0m                             Traceback (most recent call last)",
      "Cell \u001b[1;32mIn [6], line 6\u001b[0m\n\u001b[0;32m      3\u001b[0m image_size \u001b[39m=\u001b[39m (\u001b[39m224\u001b[39m, \u001b[39m224\u001b[39m)\n\u001b[0;32m      4\u001b[0m batch_size \u001b[39m=\u001b[39m \u001b[39m32\u001b[39m\n\u001b[1;32m----> 6\u001b[0m train_ds \u001b[39m=\u001b[39m tf\u001b[39m.\u001b[39mkeras\u001b[39m.\u001b[39mpreprocessing\u001b[39m.\u001b[39mimage_dataset_from_directory(\n\u001b[0;32m      7\u001b[0m     path_train,\n\u001b[0;32m      8\u001b[0m     seed\u001b[39m=\u001b[39m\u001b[39m1337\u001b[39m,\n\u001b[0;32m      9\u001b[0m     image_size\u001b[39m=\u001b[39mimage_size,\n\u001b[0;32m     10\u001b[0m     batch_size\u001b[39m=\u001b[39mbatch_size,\n\u001b[0;32m     11\u001b[0m     label_mode\u001b[39m=\u001b[39m\u001b[39m'\u001b[39m\u001b[39mcategorical\u001b[39m\u001b[39m'\u001b[39m,\n\u001b[0;32m     12\u001b[0m     shuffle\u001b[39m=\u001b[39m\u001b[39mFalse\u001b[39;00m\n\u001b[0;32m     13\u001b[0m )\n",
      "File \u001b[1;32m~\\AppData\\Roaming\\Python\\Python310\\site-packages\\keras\\utils\\image_dataset.py:207\u001b[0m, in \u001b[0;36mimage_dataset_from_directory\u001b[1;34m(directory, labels, label_mode, class_names, color_mode, batch_size, image_size, shuffle, seed, validation_split, subset, interpolation, follow_links, crop_to_aspect_ratio, **kwargs)\u001b[0m\n\u001b[0;32m    205\u001b[0m \u001b[39mif\u001b[39;00m seed \u001b[39mis\u001b[39;00m \u001b[39mNone\u001b[39;00m:\n\u001b[0;32m    206\u001b[0m     seed \u001b[39m=\u001b[39m np\u001b[39m.\u001b[39mrandom\u001b[39m.\u001b[39mrandint(\u001b[39m1e6\u001b[39m)\n\u001b[1;32m--> 207\u001b[0m image_paths, labels, class_names \u001b[39m=\u001b[39m dataset_utils\u001b[39m.\u001b[39;49mindex_directory(\n\u001b[0;32m    208\u001b[0m     directory,\n\u001b[0;32m    209\u001b[0m     labels,\n\u001b[0;32m    210\u001b[0m     formats\u001b[39m=\u001b[39;49mALLOWLIST_FORMATS,\n\u001b[0;32m    211\u001b[0m     class_names\u001b[39m=\u001b[39;49mclass_names,\n\u001b[0;32m    212\u001b[0m     shuffle\u001b[39m=\u001b[39;49mshuffle,\n\u001b[0;32m    213\u001b[0m     seed\u001b[39m=\u001b[39;49mseed,\n\u001b[0;32m    214\u001b[0m     follow_links\u001b[39m=\u001b[39;49mfollow_links,\n\u001b[0;32m    215\u001b[0m )\n\u001b[0;32m    217\u001b[0m \u001b[39mif\u001b[39;00m label_mode \u001b[39m==\u001b[39m \u001b[39m\"\u001b[39m\u001b[39mbinary\u001b[39m\u001b[39m\"\u001b[39m \u001b[39mand\u001b[39;00m \u001b[39mlen\u001b[39m(class_names) \u001b[39m!=\u001b[39m \u001b[39m2\u001b[39m:\n\u001b[0;32m    218\u001b[0m     \u001b[39mraise\u001b[39;00m \u001b[39mValueError\u001b[39;00m(\n\u001b[0;32m    219\u001b[0m         \u001b[39mf\u001b[39m\u001b[39m'\u001b[39m\u001b[39mWhen passing `label_mode=\u001b[39m\u001b[39m\"\u001b[39m\u001b[39mbinary\u001b[39m\u001b[39m\"\u001b[39m\u001b[39m`, there must be exactly 2 \u001b[39m\u001b[39m'\u001b[39m\n\u001b[0;32m    220\u001b[0m         \u001b[39mf\u001b[39m\u001b[39m\"\u001b[39m\u001b[39mclass_names. Received: class_names=\u001b[39m\u001b[39m{\u001b[39;00mclass_names\u001b[39m}\u001b[39;00m\u001b[39m\"\u001b[39m\n\u001b[0;32m    221\u001b[0m     )\n",
      "File \u001b[1;32m~\\AppData\\Roaming\\Python\\Python310\\site-packages\\keras\\utils\\dataset_utils.py:524\u001b[0m, in \u001b[0;36mindex_directory\u001b[1;34m(directory, labels, formats, class_names, shuffle, seed, follow_links)\u001b[0m\n\u001b[0;32m    522\u001b[0m \u001b[39melse\u001b[39;00m:\n\u001b[0;32m    523\u001b[0m     subdirs \u001b[39m=\u001b[39m []\n\u001b[1;32m--> 524\u001b[0m     \u001b[39mfor\u001b[39;00m subdir \u001b[39min\u001b[39;00m \u001b[39msorted\u001b[39m(tf\u001b[39m.\u001b[39;49mio\u001b[39m.\u001b[39;49mgfile\u001b[39m.\u001b[39;49mlistdir(directory)):\n\u001b[0;32m    525\u001b[0m         \u001b[39mif\u001b[39;00m tf\u001b[39m.\u001b[39mio\u001b[39m.\u001b[39mgfile\u001b[39m.\u001b[39misdir(tf\u001b[39m.\u001b[39mio\u001b[39m.\u001b[39mgfile\u001b[39m.\u001b[39mjoin(directory, subdir)):\n\u001b[0;32m    526\u001b[0m             \u001b[39mif\u001b[39;00m subdir\u001b[39m.\u001b[39mendswith(\u001b[39m\"\u001b[39m\u001b[39m/\u001b[39m\u001b[39m\"\u001b[39m):\n",
      "File \u001b[1;32m~\\AppData\\Roaming\\Python\\Python310\\site-packages\\tensorflow\\python\\lib\\io\\file_io.py:766\u001b[0m, in \u001b[0;36mlist_directory_v2\u001b[1;34m(path)\u001b[0m\n\u001b[0;32m    751\u001b[0m \u001b[39m\"\"\"Returns a list of entries contained within a directory.\u001b[39;00m\n\u001b[0;32m    752\u001b[0m \n\u001b[0;32m    753\u001b[0m \u001b[39mThe list is in arbitrary order. It does not contain the special entries \".\"\u001b[39;00m\n\u001b[1;32m   (...)\u001b[0m\n\u001b[0;32m    763\u001b[0m \u001b[39m  errors.NotFoundError if directory doesn't exist\u001b[39;00m\n\u001b[0;32m    764\u001b[0m \u001b[39m\"\"\"\u001b[39;00m\n\u001b[0;32m    765\u001b[0m \u001b[39mif\u001b[39;00m \u001b[39mnot\u001b[39;00m is_directory(path):\n\u001b[1;32m--> 766\u001b[0m   \u001b[39mraise\u001b[39;00m errors\u001b[39m.\u001b[39mNotFoundError(\n\u001b[0;32m    767\u001b[0m       node_def\u001b[39m=\u001b[39m\u001b[39mNone\u001b[39;00m,\n\u001b[0;32m    768\u001b[0m       op\u001b[39m=\u001b[39m\u001b[39mNone\u001b[39;00m,\n\u001b[0;32m    769\u001b[0m       message\u001b[39m=\u001b[39m\u001b[39m\"\u001b[39m\u001b[39mCould not find directory \u001b[39m\u001b[39m{}\u001b[39;00m\u001b[39m\"\u001b[39m\u001b[39m.\u001b[39mformat(path))\n\u001b[0;32m    771\u001b[0m \u001b[39m# Convert each element to string, since the return values of the\u001b[39;00m\n\u001b[0;32m    772\u001b[0m \u001b[39m# vector of string should be interpreted as strings, not bytes.\u001b[39;00m\n\u001b[0;32m    773\u001b[0m \u001b[39mreturn\u001b[39;00m [\n\u001b[0;32m    774\u001b[0m     compat\u001b[39m.\u001b[39mas_str_any(filename)\n\u001b[0;32m    775\u001b[0m     \u001b[39mfor\u001b[39;00m filename \u001b[39min\u001b[39;00m _pywrap_file_io\u001b[39m.\u001b[39mGetChildren(compat\u001b[39m.\u001b[39mpath_to_bytes(path))\n\u001b[0;32m    776\u001b[0m ]\n",
      "\u001b[1;31mNotFoundError\u001b[0m: Could not find directory Imagenette_v20/train"
     ]
    }
   ],
   "source": [
    "# reading data from a folder with a single example (used to create representations of categories). \n",
    "# preprocess_input is a function given by keras for a particualr model or a custiom fuction that prepares data for the model \n",
    "image_size = (224, 224)\n",
    "batch_size = 32\n",
    "\n",
    "train_ds = tf.keras.preprocessing.image_dataset_from_directory(\n",
    "    path_train,\n",
    "    seed=1337,\n",
    "    image_size=image_size,\n",
    "    batch_size=batch_size,\n",
    "    label_mode='categorical',\n",
    "    shuffle=False\n",
    ")\n",
    "\n"
   ]
  },
  {
   "cell_type": "markdown",
   "metadata": {},
   "source": [
    "# Creation of transfer learning models "
   ]
  },
  {
   "cell_type": "markdown",
   "metadata": {},
   "source": [
    "#### model_MN is based on MobileNetV2 - details of this model can be found on https://keras.io/api/applications/mobilenet/#mobilenetv2-function"
   ]
  },
  {
   "cell_type": "code",
   "execution_count": null,
   "metadata": {},
   "outputs": [],
   "source": [
    "model_MN = MobileNetV2(\n",
    "    include_top=True,\n",
    "    weights=\"imagenet\",\n",
    "    input_tensor=None,\n",
    "    input_shape=None,\n",
    "    pooling='avg',\n",
    "    classes=1000,\n",
    "    classifier_activation=\"softmax\"\n",
    ")\n",
    "# creating a model without the top layer \n",
    "inter_output_model_MN = tf.keras.Model(inputs=model_MN.input,\n",
    "                           outputs=model_MN.layers[-2].output)\n",
    "\n"
   ]
  },
  {
   "cell_type": "markdown",
   "metadata": {},
   "source": [
    "#### model_EF is based on EfficientNetV2B0 - details of this model can be found on https://keras.io/api/applications/efficientnet_v2/#efficientnetv2b0-function"
   ]
  },
  {
   "cell_type": "code",
   "execution_count": null,
   "metadata": {},
   "outputs": [],
   "source": [
    "model_EF = EfficientNetV2B0(\n",
    "    include_top=True,\n",
    "    weights=\"imagenet\",\n",
    "    input_tensor=None,\n",
    "    input_shape=None,\n",
    "    pooling='avg',\n",
    "    classes=1000,\n",
    "    classifier_activation=\"softmax\",\n",
    ")\n",
    "\n",
    "# creating a model without the top layer \n",
    "\n",
    "inter_output_model_EF = tf.keras.Model(inputs=model_EF.input,\n",
    "                           outputs=model_EF.layers[-2].output)"
   ]
  },
  {
   "cell_type": "markdown",
   "metadata": {},
   "source": [
    "#### model_RN is based on ResNetV2 - details of this model can be found on https://keras.io/api/applications/resnet/#resnet50v2-function"
   ]
  },
  {
   "cell_type": "code",
   "execution_count": null,
   "metadata": {},
   "outputs": [],
   "source": [
    "model_RN = ResNet50(\n",
    "    include_top=True,\n",
    "    weights=\"imagenet\",\n",
    "    input_tensor=None,\n",
    "    input_shape=None,\n",
    "    pooling='avg',\n",
    "    classes=1000,\n",
    "    classifier_activation=\"softmax\",\n",
    ")\n",
    "\n",
    "# creating a model without the top layer \n",
    "inter_output_model_RN = tf.keras.Model(inputs=model_RN.input, \n",
    "                            outputs=model_RN.layers[-2].output)"
   ]
  },
  {
   "cell_type": "code",
   "execution_count": null,
   "metadata": {},
   "outputs": [],
   "source": [
    "# to create a raw template, select one of the three available pre-trained models:\n",
    "# MobileNetV2 > inter_output_model_MN\n",
    "# EfficientNetV2B0 > inter_output_model_EF\n",
    "# ResNetV2 > inter_output_model_RN\n",
    "\n",
    "inter_output_model = inter_output_model_MN\n",
    "\n",
    "\n",
    "# checking which pre-tested model is used in the experiment \n",
    "# and applying the appropriate pre-processing function for it \n",
    "\n",
    "if inter_output_model == inter_output_model_MN:\n",
    "    model = \"MobileNetV2\" \n",
    "    normalized_ds_train = train_ds.map(lambda x, y: (Pre_input_MN(x), y))\n",
    "elif inter_output_model == inter_output_model_EF:\n",
    "    model = \"EfficientNetV2B0\" \n",
    "    normalized_ds_train = train_ds.map(lambda x, y: (Pre_input_EF(x), y))\n",
    "if inter_output_model == inter_output_model_RN:\n",
    "    model = \"ResNetV2\" \n",
    "    normalized_ds_train = train_ds.map(lambda x, y: (Pre_input_RS(x), y))\n",
    "\n"
   ]
  },
  {
   "cell_type": "code",
   "execution_count": null,
   "metadata": {},
   "outputs": [
    {
     "name": "stderr",
     "output_type": "stream",
     "text": [
      "C:\\Users\\mhalama\\AppData\\Local\\Temp\\ipykernel_6232\\71794335.py:1: VisibleDeprecationWarning: Creating an ndarray from ragged nested sequences (which is a list-or-tuple of lists-or-tuples-or ndarrays with different lengths or shapes) is deprecated. If you meant to do this, you must specify 'dtype=object' when creating the ndarray.\n",
      "  Y_train = np.concatenate(np.array([y for x, y in normalized_ds_train]), axis=0)\n",
      "C:\\Users\\mhalama\\AppData\\Local\\Temp\\ipykernel_6232\\71794335.py:2: VisibleDeprecationWarning: Creating an ndarray from ragged nested sequences (which is a list-or-tuple of lists-or-tuples-or ndarrays with different lengths or shapes) is deprecated. If you meant to do this, you must specify 'dtype=object' when creating the ndarray.\n",
      "  X_train = np.concatenate(np.array([x for x, y in normalized_ds_train]), axis=0)\n"
     ]
    }
   ],
   "source": [
    "Y_train = np.concatenate(np.array([y for x, y in normalized_ds_train]), axis=0) \n",
    "X_train = np.concatenate(np.array([x for x, y in normalized_ds_train]), axis=0) "
   ]
  },
  {
   "cell_type": "code",
   "execution_count": null,
   "metadata": {},
   "outputs": [
    {
     "name": "stdout",
     "output_type": "stream",
     "text": [
      "4/4 [==============================] - 6s 1s/step\n"
     ]
    }
   ],
   "source": [
    "\n",
    "templates_raw = inter_output_model.predict(X_train)"
   ]
  },
  {
   "cell_type": "code",
   "execution_count": null,
   "metadata": {},
   "outputs": [],
   "source": [
    "# analysis of change in number of images in train_ds\n",
    "# n_images_for_templates must match the number of samples declared path\n",
    "# e.g. for path = \"Imagenette_v5/train\", then n_images_for_templates = 5.\n",
    "\n",
    "\n",
    "n_images_for_templates = 20\n",
    "templates = np.average(templates_raw.reshape(int(templates_raw.shape[0] / n_images_for_templates), n_images_for_templates ,templates_raw.shape[1]), axis=1)"
   ]
  },
  {
   "cell_type": "markdown",
   "metadata": {},
   "source": [
    "# Testing"
   ]
  },
  {
   "cell_type": "markdown",
   "metadata": {},
   "source": [
    "### Creation of a test set"
   ]
  },
  {
   "cell_type": "code",
   "execution_count": null,
   "metadata": {},
   "outputs": [
    {
     "name": "stdout",
     "output_type": "stream",
     "text": [
      "Found 6548 files belonging to 5 classes.\n"
     ]
    }
   ],
   "source": [
    "# we use shuffle false to have the original order of data\n",
    "\n",
    "test_ds = tf.keras.preprocessing.image_dataset_from_directory(\n",
    "    path_test,\n",
    "    image_size=image_size,\n",
    "    batch_size=batch_size,\n",
    "    label_mode='categorical',\n",
    "    shuffle=False\n",
    ")\n"
   ]
  },
  {
   "cell_type": "code",
   "execution_count": null,
   "metadata": {},
   "outputs": [],
   "source": [
    "# checking which pre-tested model is used in the experiment \n",
    "# and applying the appropriate pre-processing function for it \n",
    "\n",
    "\n",
    "if inter_output_model == inter_output_model_MN:\n",
    "    normalized_ds_test = test_ds.map(lambda x, y: (Pre_input_MN(x), y))\n",
    "elif inter_output_model == inter_output_model_EF:\n",
    "    normalized_ds_test = test_ds.map(lambda x, y: (Pre_input_EF(x), y))\n",
    "if inter_output_model == inter_output_model_RN:\n",
    "    normalized_ds_test = test_ds.map(lambda x, y: (Pre_input_RS(x), y))"
   ]
  },
  {
   "cell_type": "code",
   "execution_count": null,
   "metadata": {},
   "outputs": [
    {
     "name": "stderr",
     "output_type": "stream",
     "text": [
      "C:\\Users\\mhalama\\AppData\\Local\\Temp\\ipykernel_6232\\3536204689.py:1: VisibleDeprecationWarning: Creating an ndarray from ragged nested sequences (which is a list-or-tuple of lists-or-tuples-or ndarrays with different lengths or shapes) is deprecated. If you meant to do this, you must specify 'dtype=object' when creating the ndarray.\n",
      "  Y_test = np.concatenate(np.array([y for x, y in normalized_ds_test]), axis=0)\n",
      "C:\\Users\\mhalama\\AppData\\Local\\Temp\\ipykernel_6232\\3536204689.py:2: VisibleDeprecationWarning: Creating an ndarray from ragged nested sequences (which is a list-or-tuple of lists-or-tuples-or ndarrays with different lengths or shapes) is deprecated. If you meant to do this, you must specify 'dtype=object' when creating the ndarray.\n",
      "  X_test = np.concatenate(np.array([x for x, y in normalized_ds_test]), axis=0)\n"
     ]
    }
   ],
   "source": [
    "Y_test = np.concatenate(np.array([y for x, y in normalized_ds_test]), axis=0) \n",
    "X_test = np.concatenate(np.array([x for x, y in normalized_ds_test]), axis=0) "
   ]
  },
  {
   "cell_type": "code",
   "execution_count": null,
   "metadata": {},
   "outputs": [
    {
     "name": "stdout",
     "output_type": "stream",
     "text": [
      "205/205 [==============================] - 334s 2s/step\n"
     ]
    }
   ],
   "source": [
    "test_pred = inter_output_model.predict(X_test)"
   ]
  },
  {
   "cell_type": "markdown",
   "metadata": {},
   "source": [
    "### Distance/similarity measures implementation\n"
   ]
  },
  {
   "cell_type": "code",
   "execution_count": null,
   "metadata": {},
   "outputs": [],
   "source": [
    "# implementation of Jaccard Similarity and Jaccard Distance\n",
    "def jaccard_similarity(X, Y):\n",
    "    def jaccard(a,b):\n",
    "        return (np.sum(a*b, axis=0)) / ((np.sqrt(np.sum(a ** 2, axis=0))) ** 2 + \\\n",
    "                                        (np.sqrt(np.sum(b ** 2, axis=0))) ** 2 - (np.sum(a*b, axis=0)))\n",
    "    jacard_dist = np.zeros((X.shape[0], Y.shape[0]))\n",
    "    for i in range(X.shape[0]):\n",
    "        for j in range(Y.shape[0]):\n",
    "            jacard_dist[i][j] = jaccard(X[i],Y[j])\n",
    "    return jacard_dist\n"
   ]
  },
  {
   "cell_type": "code",
   "execution_count": null,
   "metadata": {},
   "outputs": [],
   "source": [
    "# defining distance metric with scikit-learn\n",
    "euclidean = DistanceMetric.get_metric('euclidean')\n",
    "manhattan = DistanceMetric.get_metric('manhattan')\n",
    "chebyshev = DistanceMetric.get_metric('chebyshev')\n",
    "minkowski =  DistanceMetric.get_metric('minkowski')"
   ]
  },
  {
   "cell_type": "code",
   "execution_count": null,
   "metadata": {},
   "outputs": [],
   "source": [
    "# selection of the available method (metric/distance similarity) \n",
    "# from among the available following: \n",
    "# Euclidean distance metric > \"MSE\",\n",
    "# Manhattan distance metric > \"MAE\",\n",
    "# Chebyshev distance metric > \"CBE\",\n",
    "# Minkowski distance metric > \"MINK\",\n",
    "# Jaccard Similarity > \"Jaccard\",\n",
    "# Cosine Similarity > \"Cosine\".\n",
    "# the method_name variable requires one of the above \n",
    "\n",
    "method_name = \"MAE\""
   ]
  },
  {
   "cell_type": "code",
   "execution_count": null,
   "metadata": {},
   "outputs": [],
   "source": [
    "def predict_category(prediction, templates, method=method_name):\n",
    "    # function that can be used to return a category\n",
    "    if method == \"MSE\":\n",
    "        results = np.argmin(euclidean_distances(templates, prediction), axis = 0)\n",
    "    elif method == \"MAE\":\n",
    "        results = np.argmin(manhattan_distances(templates, prediction), axis = 0)\n",
    "    elif method == \"CBE\":\n",
    "        results = np.argmin(chebyshev.pairwise(templates, prediction), axis = 0)\n",
    "    elif method == \"MINK\":\n",
    "        results = np.argmin(minkowski.pairwise(templates, prediction), axis = 0)\n",
    "    elif method == \"Jaccard\":\n",
    "        results = np.argmax(jaccard_similarity(templates, prediction), axis = 0)\n",
    "    else:\n",
    "        results = np.argmax(cosine_similarity(templates, prediction), axis = 0) \n",
    "    return results"
   ]
  },
  {
   "cell_type": "code",
   "execution_count": null,
   "metadata": {},
   "outputs": [],
   "source": [
    "# example usage (takes a batch as an input):\n",
    "predictions = predict_category(test_pred, templates, method=method_name)"
   ]
  },
  {
   "cell_type": "code",
   "execution_count": null,
   "metadata": {},
   "outputs": [],
   "source": [
    "# example usage (takes a batch with a single sample as an input):\n",
    "single_prediction = predict_category(np.expand_dims(test_pred[0], axis=0), templates, method=method_name)"
   ]
  },
  {
   "cell_type": "markdown",
   "metadata": {},
   "source": [
    "# Evaluation"
   ]
  },
  {
   "cell_type": "code",
   "execution_count": null,
   "metadata": {},
   "outputs": [],
   "source": [
    "acc = accuracy_score(np.argmax(Y_test, axis=1), predictions)"
   ]
  },
  {
   "cell_type": "code",
   "execution_count": null,
   "metadata": {},
   "outputs": [
    {
     "name": "stdout",
     "output_type": "stream",
     "text": [
      "The accuracy of model ResNetV2 is: 0.9383017715332926, for numbers of samples equile 20 crating to tamples, involving MAE.\n"
     ]
    }
   ],
   "source": [
    "# the accuracy of a specific model is displayed, \n",
    "# along with additional information on the number of samples used and the method name. \n",
    "print(f\"The accuracy of model {model} is: {acc}, for numbers of samples equile {n_images_for_templates} \"\n",
    "f\"crating to tamples, involving {method_name}.\")"
   ]
  },
  {
   "cell_type": "markdown",
   "metadata": {},
   "source": [
    "#### visualization of results "
   ]
  },
  {
   "cell_type": "code",
   "execution_count": null,
   "metadata": {},
   "outputs": [
    {
     "data": {
      "image/png": "[encoded data removed]",
      "text/plain": [
       "<Figure size 700x500 with 2 Axes>"
      ]
     },
     "metadata": {},
     "output_type": "display_data"
    }
   ],
   "source": [
    "# creating a heatmap visualization of a normalized confusion matrix\n",
    "sns.color_palette(\"YlOrBr\", as_cmap=True)\n",
    "\n",
    "confusion_matrix_normalize = confusion_matrix(np.argmax(Y_test, axis=1), predictions, normalize='true')\n",
    "\n",
    "plt.figure(figsize=(7,5))\n",
    "ax = sns.heatmap(confusion_matrix_normalize, annot=True, cmap='YlOrBr', annot_kws={\"size\": 17})\n",
    "ax.set_yticklabels([\"gas_station\", \"golf_ball\", \"radio\", \"chainsaw\",\"instrument\"], va='center')\n",
    "ax.set_xticklabels([\"gas_station\", \"golf_ball\", \"radio\", \"chainsaw\",\"instrument\"])\n",
    "\n",
    "plt.tight_layout()\n",
    "plt.show()"
   ]
  },
  {
   "cell_type": "markdown",
   "metadata": {},
   "source": [
    "# Testing the performance under rotation"
   ]
  },
  {
   "cell_type": "code",
   "execution_count": null,
   "metadata": {},
   "outputs": [],
   "source": [
    "# copying the test data for processing\n",
    "XX_test = X_test.copy()\n",
    "\n",
    "# performing a rotation on the test data and repeating the prediction and evaluation process\n",
    "for i in range(3):\n",
    "pred = inter_output_model.predict(XX_test)\n",
    "prediction = predict_category(pred, templates, method=\"Cosine\")\n",
    "print(prediction)\n",
    "print(decode_predictions(prediction, class_dictionary))\n",
    "print()\n",
    "print(f\"accuracy: {accuracy_score(np.argmax(Y_test, axis=1), prediction)}\")\n",
    "print()\n",
    "print()\n",
    "for i in range(3):\n",
    "    XX_test = np.rot90(XX_test, axes=(1,2))\n",
    "    pred = inter_output_model.predict(XX_test)\n",
    "    prediction = predict_category(pred, templates, method=\"Cosine\")\n",
    "    print(prediction)\n",
    "    print(decode_predictions(prediction, class_dictionary))\n",
    "    print()\n",
    "    print(f\"accuracy: {accuracy_score(np.argmax(Y_test, axis=1), prediction)}\")\n",
    "    print()\n",
    "    print()"
   ]
  }
 ],
 "metadata": {
  "kernelspec": {
   "display_name": "Python 3.10.7 64-bit",
   "language": "python",
   "name": "python3"
  },
  "language_info": {
   "codemirror_mode": {
    "name": "ipython",
    "version": 3
   },
   "file_extension": ".py",
   "mimetype": "text/x-python",
   "name": "python",
   "nbconvert_exporter": "python",
   "pygments_lexer": "ipython3",
   "version": "3.10.7"
  },
  "orig_nbformat": 4,
  "vscode": {
   "interpreter": {
    "hash": "26de051ba29f2982a8de78e945f0abaf191376122a1563185a90213a26c5da77"
   }
  }
 },
 "nbformat": 4,
 "nbformat_minor": 2
}
