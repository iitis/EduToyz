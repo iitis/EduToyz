{
 "cells": [
  {
   "cell_type": "markdown",
   "metadata": {},
   "source": [
    "## Robust category recognition based on deep templates for educational mobile applications"
   ]
  },
  {
   "cell_type": "code",
   "execution_count": 1,
   "metadata": {},
   "outputs": [],
   "source": [
    "import tensorflow as tf\n",
    "import numpy as np\n",
    "\n",
    "from tensorflow.keras.utils import to_categorical\n",
    "\n",
    "# libraries required for the transfer learning with pre-trained models \n",
    "from tensorflow.keras.applications import MobileNetV2\n",
    "from tensorflow.keras.applications import EfficientNetV2B0\n",
    "from tensorflow.keras.applications import ResNet50\n",
    "\n",
    "\n",
    "# libraries required for the transfer learning with pre-trained models \n",
    "from tensorflow.keras.applications.mobilenet_v2 import preprocess_input as Pre_input_MN\n",
    "from tensorflow.keras.applications.efficientnet_v2 import preprocess_input as Pre_input_EF\n",
    "from tensorflow.keras.applications.resnet import preprocess_input as Pre_input_RS\n",
    "\n",
    "# data visualization and testing:\n",
    "import matplotlib.pyplot as plt\n",
    "from sklearn.metrics import accuracy_score, confusion_matrix\n",
    "import seaborn as sns\n",
    "\n",
    "\n",
    "# similarity/distance measures:\n",
    "from sklearn.metrics.pairwise import cosine_similarity, manhattan_distances, euclidean_distances\n",
    "from sklearn.metrics import DistanceMetric"
   ]
  },
  {
   "cell_type": "code",
   "execution_count": 2,
   "metadata": {},
   "outputs": [],
   "source": [
    "# we define a dictionary that can be used to map a folder name with specific class data.\n",
    "# to the desired labels, we used a dumb definition: \n",
    "class_dictionary = {0: \"zebra\", 1: \"Uszatek\", 2: \"teddy\", 3: \"boat\", 4: \"dozer\", 5: \"bear\"}\n",
    "def decode_predictions(array, class_dictionary):\n",
    "    return np.array(list(map(class_dictionary.get, array)))"
   ]
  },
  {
   "cell_type": "code",
   "execution_count": 3,
   "metadata": {},
   "outputs": [
    {
     "data": {
      "text/plain": [
       "dict_values(['zebra', 'Uszatek', 'teddy', 'boat', 'dozer', 'bear'])"
      ]
     },
     "execution_count": 3,
     "metadata": {},
     "output_type": "execute_result"
    }
   ],
   "source": [
    "class_dictionary.values()"
   ]
  },
  {
   "cell_type": "markdown",
   "metadata": {},
   "source": [
    "# Templates creation"
   ]
  },
  {
   "cell_type": "code",
   "execution_count": 4,
   "metadata": {},
   "outputs": [],
   "source": [
    "# the selection of the number of samples to create templates \n",
    "# is done manually according to the following scheme: \n",
    "# for 1 sample: Dataset_N1/train, \n",
    "# for 2 samples: Dataset_N2/train, \n",
    "# for 3 samples: Dataset_N3/train,\n",
    "# for 4 samples: Dataset_N4/train, \n",
    "# for 5 samples: Dataset_N5/train, \n",
    "# for 10 samples: Dataset_N10/train,\n",
    "# for 20 samples: Dataset_N20/train.\n",
    "\n",
    "path_train = \"Dataset_N20/train\"\n",
    "\n",
    "\n",
    "# the selection of the test set\n",
    "# is done manually according to the following scheme: \n",
    "# for 1 sample: Dataset_N1/test, \n",
    "# for 2 samples: Dataset_N2/test, \n",
    "# for 3 samples: Dataset_N3/test,\n",
    "# for 4 samples: Dataset_N4/test, \n",
    "# for 5 samples: Dataset_N5/test, \n",
    "# for 10 samples: Dataset_N10/test,\n",
    "# for 20 samples: Dataset_N20/test.\n",
    "\n",
    "\n",
    "path_test = \"Dataset_N20/test\"\n",
    "\n",
    "\n",
    "# ensure that the number of saplems in both selected paths to foilders always matches.\n"
   ]
  },
  {
   "cell_type": "code",
   "execution_count": 5,
   "metadata": {},
   "outputs": [
    {
     "name": "stdout",
     "output_type": "stream",
     "text": [
      "Found 120 files belonging to 6 classes.\n"
     ]
    }
   ],
   "source": [
    "# reading data from a folder with a single example (used to create representations of categories). \n",
    "# preprocess_input is a function given by keras for a particualr model or a custiom fuction that prepares data for the model \n",
    "image_size = (224, 224)\n",
    "batch_size = 32\n",
    "\n",
    "train_ds = tf.keras.preprocessing.image_dataset_from_directory(\n",
    "    path_train,\n",
    "    seed=1337,\n",
    "    image_size=image_size,\n",
    "    batch_size=batch_size,\n",
    "    label_mode='categorical',\n",
    "    shuffle=False\n",
    ")\n",
    "\n"
   ]
  },
  {
   "cell_type": "markdown",
   "metadata": {},
   "source": [
    "# Creation of transfer learning models "
   ]
  },
  {
   "cell_type": "markdown",
   "metadata": {},
   "source": [
    "#### model_MN is based on MobileNetV2 - details of this model can be found on https://keras.io/api/applications/mobilenet/#mobilenetv2-function"
   ]
  },
  {
   "cell_type": "code",
   "execution_count": 6,
   "metadata": {},
   "outputs": [],
   "source": [
    "model_MN = MobileNetV2(\n",
    "    include_top=True,\n",
    "    weights=\"imagenet\",\n",
    "    input_tensor=None,\n",
    "    input_shape=None,\n",
    "    pooling='avg',\n",
    "    classes=1000,\n",
    "    classifier_activation=\"softmax\"\n",
    ")\n",
    "# creating a model without the top layer \n",
    "inter_output_model_MN = tf.keras.Model(inputs=model_MN.input,\n",
    "                           outputs=model_MN.layers[-2].output)\n",
    "\n"
   ]
  },
  {
   "cell_type": "markdown",
   "metadata": {},
   "source": [
    "#### model_EF is based on EfficientNetV2B0 - details of this model can be found on https://keras.io/api/applications/efficientnet_v2/#efficientnetv2b0-function"
   ]
  },
  {
   "cell_type": "code",
   "execution_count": 7,
   "metadata": {},
   "outputs": [],
   "source": [
    "model_EF = EfficientNetV2B0(\n",
    "    include_top=True,\n",
    "    weights=\"imagenet\",\n",
    "    input_tensor=None,\n",
    "    input_shape=None,\n",
    "    pooling='avg',\n",
    "    classes=1000,\n",
    "    classifier_activation=\"softmax\",\n",
    ")\n",
    "\n",
    "# creating a model without the top layer \n",
    "\n",
    "inter_output_model_EF = tf.keras.Model(inputs=model_EF.input,\n",
    "                           outputs=model_EF.layers[-2].output)"
   ]
  },
  {
   "cell_type": "markdown",
   "metadata": {},
   "source": [
    "#### model_RN is based on ResNetV2 - details of this model can be found on https://keras.io/api/applications/resnet/#resnet50v2-function"
   ]
  },
  {
   "cell_type": "code",
   "execution_count": 27,
   "metadata": {},
   "outputs": [],
   "source": [
    "model_RN = ResNet50(\n",
    "    include_top=True,\n",
    "    weights=\"imagenet\",\n",
    "    input_tensor=None,\n",
    "    input_shape=None,\n",
    "    pooling='avg',\n",
    "    classes=1000,\n",
    "    classifier_activation=\"softmax\",\n",
    ")\n",
    "\n",
    "# creating a model without the top layer \n",
    "inter_output_model_RN = tf.keras.Model(inputs=model_RN.input, \n",
    "                            outputs=model_RN.layers[-2].output)"
   ]
  },
  {
   "cell_type": "code",
   "execution_count": 28,
   "metadata": {},
   "outputs": [],
   "source": [
    "# to create a raw template, select one of the three available pre-trained models:\n",
    "# MobileNetV2 > inter_output_model_MN\n",
    "# EfficientNetV2B0 > inter_output_model_EF\n",
    "# ResNetV2 > inter_output_model_RN\n",
    "\n",
    "inter_output_model = inter_output_model_MN\n",
    "\n",
    "\n",
    "\n",
    "# checking which pre-tested model is used in the experiment \n",
    "# and applying the appropriate pre-processing function for it \n",
    "\n",
    "if inter_output_model == inter_output_model_MN:\n",
    "    model = \"MobileNetV2\" \n",
    "    normalized_ds_train = train_ds.map(lambda x, y: (Pre_input_MN(x), y))\n",
    "elif inter_output_model == inter_output_model_EF:\n",
    "    model = \"EfficientNetV2B0\" \n",
    "    normalized_ds_train = train_ds.map(lambda x, y: (Pre_input_EF(x), y))\n",
    "if inter_output_model == inter_output_model_RN:\n",
    "    model = \"ResNetV2\" \n",
    "    normalized_ds_train = train_ds.map(lambda x, y: (Pre_input_RS(x), y))\n",
    "\n"
   ]
  },
  {
   "cell_type": "code",
   "execution_count": null,
   "metadata": {},
   "outputs": [],
   "source": [
    "Y_train = np.concatenate(np.array([y for x, y in normalized_ds_train]), axis=0) \n",
    "X_train = np.concatenate(np.array([x for x, y in normalized_ds_train]), axis=0) "
   ]
  },
  {
   "cell_type": "code",
   "execution_count": 30,
   "metadata": {},
   "outputs": [
    {
     "name": "stdout",
     "output_type": "stream",
     "text": [
      "4/4 [==============================] - 3s 411ms/step\n"
     ]
    }
   ],
   "source": [
    "\n",
    "templates_raw = inter_output_model.predict(X_train)"
   ]
  },
  {
   "cell_type": "code",
   "execution_count": 31,
   "metadata": {},
   "outputs": [],
   "source": [
    "# analysis of change in number of images in train_ds\n",
    "# n_images_for_templates must match the number of samples declared path\n",
    "# e.g. for path = \"Dataset_N5/train\", then n_images_for_templates = 5.\n",
    "\n",
    "\n",
    "n_images_for_templates = 20\n",
    "templates = np.average(templates_raw.reshape(int(templates_raw.shape[0] / n_images_for_templates), n_images_for_templates ,templates_raw.shape[1]), axis=1)"
   ]
  },
  {
   "cell_type": "markdown",
   "metadata": {},
   "source": [
    "# Testing"
   ]
  },
  {
   "cell_type": "markdown",
   "metadata": {},
   "source": [
    "### Creation of a test set"
   ]
  },
  {
   "cell_type": "code",
   "execution_count": 32,
   "metadata": {},
   "outputs": [
    {
     "name": "stdout",
     "output_type": "stream",
     "text": [
      "Found 1680 files belonging to 6 classes.\n"
     ]
    }
   ],
   "source": [
    "# we use shuffle false to have the original order of data\n",
    "\n",
    "test_ds = tf.keras.preprocessing.image_dataset_from_directory(\n",
    "    path_test,\n",
    "    image_size=image_size,\n",
    "    batch_size=batch_size,\n",
    "    label_mode='categorical',\n",
    "    shuffle=False\n",
    ")\n"
   ]
  },
  {
   "cell_type": "code",
   "execution_count": 33,
   "metadata": {},
   "outputs": [],
   "source": [
    "# checking which pre-tested model is used in the experiment \n",
    "# and applying the appropriate pre-processing function for it \n",
    "\n",
    "if inter_output_model == inter_output_model_MN:\n",
    "    normalized_ds_test = test_ds.map(lambda x, y: (Pre_input_MN(x), y))\n",
    "elif inter_output_model == inter_output_model_EF:\n",
    "    normalized_ds_test = test_ds.map(lambda x, y: (Pre_input_EF(x), y))\n",
    "if inter_output_model == inter_output_model_RN:\n",
    "    normalized_ds_test = test_ds.map(lambda x, y: (Pre_input_RS(x), y))"
   ]
  },
  {
   "cell_type": "code",
   "execution_count": null,
   "metadata": {},
   "outputs": [],
   "source": [
    "Y_test = np.concatenate(np.array([y for x, y in normalized_ds_test]), axis=0) \n",
    "X_test = np.concatenate(np.array([x for x, y in normalized_ds_test]), axis=0) "
   ]
  },
  {
   "cell_type": "code",
   "execution_count": 35,
   "metadata": {},
   "outputs": [
    {
     "name": "stdout",
     "output_type": "stream",
     "text": [
      "53/53 [==============================] - 23s 434ms/step\n"
     ]
    }
   ],
   "source": [
    "test_pred = inter_output_model.predict(X_test)"
   ]
  },
  {
   "cell_type": "markdown",
   "metadata": {},
   "source": [
    "### Distance/similarity measures implementation\n"
   ]
  },
  {
   "cell_type": "code",
   "execution_count": 36,
   "metadata": {},
   "outputs": [],
   "source": [
    "# implementation of Jaccard Similarity and Jaccard Distance\n",
    "def jaccard_similarity(X, Y):\n",
    "    def jaccard(a,b):\n",
    "        return (np.sum(a*b, axis=0)) / ((np.sqrt(np.sum(a ** 2, axis=0))) ** 2 + \\\n",
    "                                        (np.sqrt(np.sum(b ** 2, axis=0))) ** 2 - (np.sum(a*b, axis=0)))\n",
    "    jacard_dist = np.zeros((X.shape[0], Y.shape[0]))\n",
    "    for i in range(X.shape[0]):\n",
    "        for j in range(Y.shape[0]):\n",
    "            jacard_dist[i][j] = jaccard(X[i],Y[j])\n",
    "    return jacard_dist\n"
   ]
  },
  {
   "cell_type": "code",
   "execution_count": 37,
   "metadata": {},
   "outputs": [],
   "source": [
    "# defining distance metric with scikit-learn\n",
    "euclidean = DistanceMetric.get_metric('euclidean')\n",
    "manhattan = DistanceMetric.get_metric('manhattan')\n",
    "chebyshev = DistanceMetric.get_metric('chebyshev')\n",
    "minkowski =  DistanceMetric.get_metric('minkowski')"
   ]
  },
  {
   "cell_type": "code",
   "execution_count": 38,
   "metadata": {},
   "outputs": [],
   "source": [
    "# selection of the available method (metric/distance similarity) \n",
    "# from among the available following: \n",
    "# Euclidean distance metric > \"MSE\",\n",
    "# Manhattan distance metric > \"MAE\",\n",
    "# Chebyshev distance metric > \"CBE\",\n",
    "# Minkowski distance metric > \"MINK\",\n",
    "# Jaccard Similarity > \"Jaccard\",\n",
    "# Cosine Similarity > \"CCosine\".\n",
    "# the method_name variable requires one of the above \n",
    "\n",
    "method_name = \"COS\""
   ]
  },
  {
   "cell_type": "code",
   "execution_count": 39,
   "metadata": {},
   "outputs": [],
   "source": [
    "def predict_category(prediction, templates, method=method_name):\n",
    "    # function that can be used to return a category\n",
    "    if method == \"MSE\":\n",
    "        results = np.argmin(euclidean_distances(templates, prediction), axis = 0)\n",
    "    elif method == \"MAE\":\n",
    "        results = np.argmin(manhattan_distances(templates, prediction), axis = 0)\n",
    "    elif method == \"CBE\":\n",
    "        results = np.argmin(chebyshev.pairwise(templates, prediction), axis = 0)\n",
    "    elif method == \"MINK\":\n",
    "        results = np.argmin(minkowski.pairwise(templates, prediction), axis = 0)\n",
    "    elif method == \"Jaccard\":\n",
    "        results = np.argmax(jaccard_similarity(templates, prediction), axis = 0)\n",
    "    else:\n",
    "        results = np.argmax(cosine_similarity(templates, prediction), axis = 0) \n",
    "    return results"
   ]
  },
  {
   "cell_type": "code",
   "execution_count": 40,
   "metadata": {},
   "outputs": [],
   "source": [
    "# example usage (takes a batch as an input):\n",
    "predictions = predict_category(test_pred, templates, method=method_name)"
   ]
  },
  {
   "cell_type": "code",
   "execution_count": 41,
   "metadata": {},
   "outputs": [],
   "source": [
    "# example usage (takes a batch with a single sample as an input):\n",
    "single_prediction = predict_category(np.expand_dims(test_pred[0], axis=0), templates, method=method_name)"
   ]
  },
  {
   "cell_type": "markdown",
   "metadata": {},
   "source": [
    "# Evaluation"
   ]
  },
  {
   "cell_type": "code",
   "execution_count": 42,
   "metadata": {},
   "outputs": [],
   "source": [
    "acc = accuracy_score(np.argmax(Y_test, axis=1), predictions)"
   ]
  },
  {
   "cell_type": "code",
   "execution_count": 43,
   "metadata": {},
   "outputs": [
    {
     "name": "stdout",
     "output_type": "stream",
     "text": [
      "The accuracy of model MobileNetV2 is: 0.9744047619047619, for numbers of samples equile 20 crating to tamples, involving COS.\n"
     ]
    }
   ],
   "source": [
    "# the accuracy of a specific model is displayed, \n",
    "# along with additional information on the number of samples used and the method name. \n",
    "\n",
    "print(f\"The accuracy of model {model} is: {acc}, for numbers of samples equile {n_images_for_templates} \"\n",
    "f\"crating to tamples, involving {method_name}.\")"
   ]
  },
  {
   "cell_type": "markdown",
   "metadata": {},
   "source": [
    "#### visualization of results "
   ]
  },
  {
   "cell_type": "code",
   "execution_count": 44,
   "metadata": {},
   "outputs": [
    {
     "data": {
      "image/png": "[encoded data removed]",
      "text/plain": [
       "<Figure size 700x500 with 2 Axes>"
      ]
     },
     "metadata": {},
     "output_type": "display_data"
    }
   ],
   "source": [
    "# creating a heatmap visualization of a normalized confusion matrix\n",
    "\n",
    "confusion_matrix_normalize = confusion_matrix(np.argmax(Y_test, axis=1), predictions, normalize='true')\n",
    "\n",
    "plt.figure(figsize=(7,5))\n",
    "ax = sns.heatmap(confusion_matrix_normalize, annot=True, cmap='Blues', annot_kws={\"size\": 17})\n",
    "ax.set_yticklabels([\"zebra\",\"Uszatek\", \"teddy\",\"boat\", \"dozer\", \"bear\"], va='center')\n",
    "ax.set_xticklabels([\"zebra\",\"Uszatek\", \"teddy\",\"boat\", \"dozer\", \"bear\"])\n",
    "\n",
    "plt.tight_layout()\n",
    "plt.show()"
   ]
  },
  {
   "cell_type": "markdown",
   "metadata": {},
   "source": [
    "# Testing the performance under rotation"
   ]
  },
  {
   "cell_type": "code",
   "execution_count": 45,
   "metadata": {},
   "outputs": [
    {
     "name": "stdout",
     "output_type": "stream",
     "text": [
      "53/53 [==============================] - 22s 419ms/step\n",
      "[0 0 0 ... 5 5 5]\n",
      "['zebra' 'zebra' 'zebra' ... 'bear' 'bear' 'bear']\n",
      "\n",
      "accuracy: 0.9744047619047619\n",
      "\n",
      "\n",
      "53/53 [==============================] - 23s 425ms/step\n",
      "[0 0 0 ... 5 5 5]\n",
      "['zebra' 'zebra' 'zebra' ... 'bear' 'bear' 'bear']\n",
      "\n",
      "accuracy: 0.9744047619047619\n",
      "\n",
      "\n",
      "53/53 [==============================] - 24s 447ms/step\n",
      "[0 0 0 ... 5 5 5]\n",
      "['zebra' 'zebra' 'zebra' ... 'bear' 'bear' 'bear']\n",
      "\n",
      "accuracy: 0.9714285714285714\n",
      "\n",
      "\n",
      "53/53 [==============================] - 28s 534ms/step\n",
      "[0 0 0 ... 5 5 5]\n",
      "['zebra' 'zebra' 'zebra' ... 'bear' 'bear' 'bear']\n",
      "\n",
      "accuracy: 0.9767857142857143\n",
      "\n",
      "\n"
     ]
    }
   ],
   "source": [
    "# copying the test data for processing\n",
    "XX_test = X_test.copy()\n",
    "# performing a rotation on the test data and repeating the prediction and evaluation process\n",
    "pred = inter_output_model.predict(XX_test)\n",
    "prediction = predict_category(pred, templates, method=\"Cosine\")\n",
    "print(prediction)\n",
    "print(decode_predictions(prediction, class_dictionary))\n",
    "print()\n",
    "print(f\"accuracy: {accuracy_score(np.argmax(Y_test, axis=1), prediction)}\")\n",
    "print()\n",
    "print()\n",
    "for i in range(3):\n",
    "    XX_test = np.rot90(XX_test, axes=(1,2))\n",
    "    pred = inter_output_model.predict(XX_test)\n",
    "    prediction = predict_category(pred, templates, method=\"Cosine\")\n",
    "    print(prediction)\n",
    "    print(decode_predictions(prediction, class_dictionary))\n",
    "    print()\n",
    "    print(f\"accuracy: {accuracy_score(np.argmax(Y_test, axis=1), prediction)}\")\n",
    "    print()\n",
    "    print()"
   ]
  }
 ],
 "metadata": {
  "kernelspec": {
   "display_name": "Python 3.10.7 64-bit",
   "language": "python",
   "name": "python3"
  },
  "language_info": {
   "codemirror_mode": {
    "name": "ipython",
    "version": 3
   },
   "file_extension": ".py",
   "mimetype": "text/x-python",
   "name": "python",
   "nbconvert_exporter": "python",
   "pygments_lexer": "ipython3",
   "version": "3.10.7"
  },
  "orig_nbformat": 4,
  "vscode": {
   "interpreter": {
    "hash": "26de051ba29f2982a8de78e945f0abaf191376122a1563185a90213a26c5da77"
   }
  }
 },
 "nbformat": 4,
 "nbformat_minor": 2
}
